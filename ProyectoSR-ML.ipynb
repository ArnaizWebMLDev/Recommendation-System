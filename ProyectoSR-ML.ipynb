{
  "nbformat": 4,
  "nbformat_minor": 0,
  "metadata": {
    "colab": {
      "provenance": []
    },
    "kernelspec": {
      "name": "python3",
      "display_name": "Python 3"
    },
    "language_info": {
      "name": "python"
    }
  },
  "cells": [
    {
      "cell_type": "markdown",
      "source": [
        "Preparación  de entorno con librerías requeridas, el artículo de Medium: https://medium.com/@arnaizm95/los-sistemas-de-recomendación-aaf03e305c4c\n"
      ],
      "metadata": {
        "id": "HxcyO7rDOEKp"
      }
    },
    {
      "cell_type": "code",
      "execution_count": null,
      "metadata": {
        "colab": {
          "base_uri": "https://localhost:8080/"
        },
        "id": "sm5w3qQoK-n4",
        "outputId": "25dc347c-01f3-4a8b-bfd1-bb038e9a1398"
      },
      "outputs": [
        {
          "output_type": "stream",
          "name": "stdout",
          "text": [
            "Collecting scikit-surprise\n",
            "  Downloading scikit_surprise-1.1.4.tar.gz (154 kB)\n",
            "\u001b[?25l     \u001b[90m━━━━━━━━━━━━━━━━━━━━━━━━━━━━━━━━━━━━━━━━\u001b[0m \u001b[32m0.0/154.4 kB\u001b[0m \u001b[31m?\u001b[0m eta \u001b[36m-:--:--\u001b[0m\r\u001b[2K     \u001b[91m━━━━━━━━━━━━━━━━━━━━━━━\u001b[0m\u001b[91m╸\u001b[0m\u001b[90m━━━━━━━━━━━━━━━━\u001b[0m \u001b[32m92.2/154.4 kB\u001b[0m \u001b[31m2.5 MB/s\u001b[0m eta \u001b[36m0:00:01\u001b[0m\r\u001b[2K     \u001b[90m━━━━━━━━━━━━━━━━━━━━━━━━━━━━━━━━━━━━━━━━\u001b[0m \u001b[32m154.4/154.4 kB\u001b[0m \u001b[31m3.0 MB/s\u001b[0m eta \u001b[36m0:00:00\u001b[0m\n",
            "\u001b[?25h  Installing build dependencies ... \u001b[?25l\u001b[?25hdone\n",
            "  Getting requirements to build wheel ... \u001b[?25l\u001b[?25hdone\n",
            "  Preparing metadata (pyproject.toml) ... \u001b[?25l\u001b[?25hdone\n",
            "Requirement already satisfied: joblib>=1.2.0 in /usr/local/lib/python3.10/dist-packages (from scikit-surprise) (1.4.2)\n",
            "Requirement already satisfied: numpy>=1.19.5 in /usr/local/lib/python3.10/dist-packages (from scikit-surprise) (1.25.2)\n",
            "Requirement already satisfied: scipy>=1.6.0 in /usr/local/lib/python3.10/dist-packages (from scikit-surprise) (1.11.4)\n",
            "Building wheels for collected packages: scikit-surprise\n",
            "  Building wheel for scikit-surprise (pyproject.toml) ... \u001b[?25l\u001b[?25hdone\n",
            "  Created wheel for scikit-surprise: filename=scikit_surprise-1.1.4-cp310-cp310-linux_x86_64.whl size=2357238 sha256=d855972f0c5cdb64ffe39b15b80b571ace1db8ebd28aa1067ad71060e4a8dc84\n",
            "  Stored in directory: /root/.cache/pip/wheels/4b/3f/df/6acbf0a40397d9bf3ff97f582cc22fb9ce66adde75bc71fd54\n",
            "Successfully built scikit-surprise\n",
            "Installing collected packages: scikit-surprise\n",
            "Successfully installed scikit-surprise-1.1.4\n"
          ]
        }
      ],
      "source": [
        "pip install scikit-surprise"
      ]
    },
    {
      "cell_type": "code",
      "source": [
        "#conda install -c conda-forge scikit-surprise"
      ],
      "metadata": {
        "id": "4j1VIqA3OARM"
      },
      "execution_count": null,
      "outputs": []
    },
    {
      "cell_type": "code",
      "source": [
        "#Importacion de librerías\n",
        "import pandas as pd\n",
        "from surprise import KNNBasic, KNNWithMeans\n",
        "from surprise import Dataset\n",
        "from surprise import Reader\n",
        "from surprise import accuracy\n",
        "from surprise.model_selection import train_test_split"
      ],
      "metadata": {
        "id": "rYnQ0CoTODpi"
      },
      "execution_count": null,
      "outputs": []
    },
    {
      "cell_type": "markdown",
      "source": [
        "Para la lectura del archivo disponemos de la función Reader en Surprise, se utiliza para especificar el formato del dataset y el rango de las calificaciones. Permite a los usuarios definir cómo se deben interpretar los datos del archivo de entrada (por ejemplo, un archivo CSV) para que Surprise pueda procesarlos correctamente.\n",
        "\n"
      ],
      "metadata": {
        "id": "He-BQt2qtgXo"
      }
    },
    {
      "cell_type": "code",
      "source": [
        "#Lectura del archivo con la función Reader de Surprise\n",
        "reader = Reader(line_format='user item rating timestamp', sep='::')\n",
        "data = Dataset.load_from_file('/content/ratings (1).dat', reader=reader)"
      ],
      "metadata": {
        "id": "ytCCoGkdOKs2"
      },
      "execution_count": null,
      "outputs": []
    },
    {
      "cell_type": "markdown",
      "source": [
        "Por ponernos en contexto, podemos realizar una representación de la distribución de los ratings"
      ],
      "metadata": {
        "id": "QmjvNnTJuOCG"
      }
    },
    {
      "cell_type": "code",
      "source": [
        "import matplotlib.pyplot as plt\n",
        "\n",
        "# Extraer las calificaciones\n",
        "ratings = [(row[0], row[1], row[2]) for row in data.raw_ratings]\n",
        "users, items, scores = zip(*ratings)\n",
        "\n",
        "# Creamos un histograma de las calificaciones\n",
        "plt.hist(scores, bins=10)\n",
        "plt.xlabel('Calificación')\n",
        "plt.ylabel('Frecuencia')\n",
        "plt.title('Distribución de Calificaciones')\n",
        "plt.show()\n",
        "\n"
      ],
      "metadata": {
        "colab": {
          "base_uri": "https://localhost:8080/",
          "height": 472
        },
        "id": "ZBOIuTo6STMk",
        "outputId": "4770eaaa-50f9-4b15-eeaa-532f65168df6"
      },
      "execution_count": null,
      "outputs": [
        {
          "output_type": "display_data",
          "data": {
            "text/plain": [
              "<Figure size 640x480 with 1 Axes>"
            ],
            "image/png": "[encoded data removed]"
          },
          "metadata": {}
        }
      ]
    },
    {
      "cell_type": "code",
      "source": [
        "#Dividimos los datos en conjuntos de entrenamiento y validación\n",
        "train, test = train_test_split(data, test_size=0.3)"
      ],
      "metadata": {
        "id": "Wn8owUlhO1e-"
      },
      "execution_count": null,
      "outputs": []
    },
    {
      "cell_type": "markdown",
      "source": [
        "Definimos los modelos de aprendizaje, knn y kMeans, con el mismo factor k=50, lo que a priori parece similar, en K-means, k define la cantidad de clusters, mientras que en KNN, k determina el número de vecinos considerados para clasificar o predecir. La elección del valor adecuado de k es crítica en ambos casos para asegurar el buen rendimiento del modelo."
      ],
      "metadata": {
        "id": "k4APac9Rvg2b"
      }
    },
    {
      "cell_type": "code",
      "source": [
        "#Establecemos los modelos KNN y KMeans para probar cuál funciona mejor\n",
        "knn = KNNBasic(k=50, sim_options={'name': 'pearson', 'user_based': True})\n",
        "kMeans = KNNWithMeans(k=50, sim_options={'name': 'cosine','user_based': False})"
      ],
      "metadata": {
        "id": "po9tqiOlO2w5"
      },
      "execution_count": null,
      "outputs": []
    },
    {
      "cell_type": "code",
      "source": [
        "#Entrenamiento de modelo\n",
        "knn.fit(train)\n",
        "kMeans.fit(train)"
      ],
      "metadata": {
        "colab": {
          "base_uri": "https://localhost:8080/"
        },
        "id": "sVDaMyrkO4Nr",
        "outputId": "b38d5fa3-7bc1-49eb-e4e5-e48887492b9b"
      },
      "execution_count": null,
      "outputs": [
        {
          "output_type": "stream",
          "name": "stdout",
          "text": [
            "Computing the pearson similarity matrix...\n",
            "Done computing similarity matrix.\n",
            "Computing the cosine similarity matrix...\n",
            "Done computing similarity matrix.\n"
          ]
        },
        {
          "output_type": "execute_result",
          "data": {
            "text/plain": [
              "<surprise.prediction_algorithms.knns.KNNWithMeans at 0x792dd05644f0>"
            ]
          },
          "metadata": {},
          "execution_count": 8
        }
      ]
    },
    {
      "cell_type": "markdown",
      "source": [],
      "metadata": {
        "id": "Xx9JVhOKyCH-"
      }
    },
    {
      "cell_type": "code",
      "source": [
        "#Realizamos la predicción de puntuaciones con los dos modelos, apreciando que son muy similares\n",
        "user_id = 42\n",
        "item_id = 7\n",
        "knn_user_prediction = knn.predict(user_id, item_id)\n",
        "kMeans_user_prediction = kMeans.predict(user_id, item_id)\n",
        "\n",
        "print(\"KNN Prediction:\", knn_user_prediction.est)\n",
        "print(\"KMeans Prediction:\", kMeans_user_prediction.est)"
      ],
      "metadata": {
        "id": "m3OKPOX0O5c_",
        "colab": {
          "base_uri": "https://localhost:8080/"
        },
        "outputId": "0448d943-451c-4425-c238-b880c0f5f083"
      },
      "execution_count": null,
      "outputs": [
        {
          "output_type": "stream",
          "name": "stdout",
          "text": [
            "KNN Prediction: 3.568639943532209\n",
            "KMeans Prediction: 3.568639943532209\n"
          ]
        }
      ]
    },
    {
      "cell_type": "markdown",
      "source": [
        "Validación del modelo: RMSE(Root Mean Squared Error) o Error Cuadrático Medio es una métrica utilizada para evaluar la precisión de un modelo de predicción, particularmente en el contexto de modelos de regresión. Es una medida de la diferencia promedio entre los valores predichos por el modelo y los valores observados (reales)."
      ],
      "metadata": {
        "id": "HdvgbtBSykN-"
      }
    },
    {
      "cell_type": "code",
      "source": [
        "#Validamos el modelo con métricas, en este caso con la aplicación del error cuadrático medio\n",
        "\n",
        "knn_test_predictions = knn.test(test)\n",
        "kMeans_test_predictions = kMeans.test(test)\n",
        "knn_rmse = accuracy.rmse(knn_test_predictions)\n",
        "kMeans_rmse = accuracy.rmse(kMeans_test_predictions)"
      ],
      "metadata": {
        "colab": {
          "base_uri": "https://localhost:8080/"
        },
        "id": "djrimRLlPMEm",
        "outputId": "90caff7f-0157-450a-919a-43118825ff2e"
      },
      "execution_count": null,
      "outputs": [
        {
          "output_type": "stream",
          "name": "stdout",
          "text": [
            "RMSE: 0.9638\n",
            "RMSE: 0.8972\n"
          ]
        }
      ]
    },
    {
      "cell_type": "code",
      "source": [
        "print(\"KNN RMSE: \" + str(knn_rmse))\n",
        "print(\"KMeans RMSE: \" + str(kMeans_rmse))"
      ],
      "metadata": {
        "colab": {
          "base_uri": "https://localhost:8080/"
        },
        "id": "C34xtp-dPNXw",
        "outputId": "4645cc13-9109-4d41-da04-033e4124f296"
      },
      "execution_count": null,
      "outputs": [
        {
          "output_type": "stream",
          "name": "stdout",
          "text": [
            "KNN RMSE: 0.9638255883001481\n",
            "KMeans RMSE: 0.8971854827683942\n"
          ]
        }
      ]
    },
    {
      "cell_type": "markdown",
      "source": [
        "Comprobando los resultados de las métricas se observa que el modelo KNN obtiene resultados mucho más precisos. Kmeans al ser una técnica de aprendizaje no supervisado quizás requiera de una selección del nº de clusters más optimizada. Las métricas obtenidas en el modelo KNN son prometedoras."
      ],
      "metadata": {
        "id": "wgED9R0-yxZf"
      }
    },
    {
      "cell_type": "code",
      "source": [
        "# Obtenemos la predicción de los k vecinos más cercanos de un usuario concreto\n",
        "uid = 196 # Por ejemplo, usuario con ID 196\n",
        "\n",
        "k = 10  # número de vecinos\n",
        "\n",
        "# Obtener los k vecinos más cercanos\n",
        "neighbors = knn.get_neighbors(uid, k)\n",
        "\n",
        "# Convertir los índices internos de nuevo a los ids originales\n",
        "neighbors_ids = [knn.trainset.to_raw_uid(inner_id) for inner_id in neighbors]\n",
        "\n",
        "print(f\"Los {k} vecinos más cercanos a {uid} son: {neighbors_ids}\")\n"
      ],
      "metadata": {
        "colab": {
          "base_uri": "https://localhost:8080/"
        },
        "id": "j0It-PdjUzNZ",
        "outputId": "de06adbc-3917-4af2-cd3d-fba4b7185bc1"
      },
      "execution_count": null,
      "outputs": [
        {
          "output_type": "stream",
          "name": "stdout",
          "text": [
            "Los 10 vecinos más cercanos a 196 son: ['417', '946', '3583', '1906', '4031', '2128', '1566', '1638', '2647', '3893']\n"
          ]
        }
      ]
    }
  ]
}